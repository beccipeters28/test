{
 "cells": [
  {
   "cell_type": "code",
   "execution_count": 3,
   "id": "5dd468c7-27b2-4f2c-a3f1-708f220e4e94",
   "metadata": {},
   "outputs": [
    {
     "ename": "NameError",
     "evalue": "name 'HTML' is not defined",
     "output_type": "error",
     "traceback": [
      "\u001b[0;31m---------------------------------------------------------------------------\u001b[0m",
      "\u001b[0;31mNameError\u001b[0m                                 Traceback (most recent call last)",
      "Cell \u001b[0;32mIn[3], line 9\u001b[0m\n\u001b[1;32m      3\u001b[0m \u001b[38;5;28;01mfrom\u001b[39;00m \u001b[38;5;21;01mthreading\u001b[39;00m \u001b[38;5;28;01mimport\u001b[39;00m Thread\n\u001b[1;32m      4\u001b[0m app \u001b[38;5;241m=\u001b[39m Flask(\u001b[38;5;18m__name__\u001b[39m)\n\u001b[0;32m----> 9\u001b[0m display(HTML(\u001b[38;5;124m\"\u001b[39m\u001b[38;5;124m<h1>Hello, world!</h1>\u001b[39m\u001b[38;5;124m\"\u001b[39m))\n\u001b[1;32m     10\u001b[0m \u001b[38;5;129m@app\u001b[39m\u001b[38;5;241m.\u001b[39mroute(\u001b[38;5;124m'\u001b[39m\u001b[38;5;124m/\u001b[39m\u001b[38;5;124m'\u001b[39m)\n\u001b[1;32m     11\u001b[0m \u001b[38;5;28;01mdef\u001b[39;00m \u001b[38;5;21mhome\u001b[39m():\n\u001b[1;32m     12\u001b[0m     \u001b[38;5;28;01mreturn\u001b[39;00m \u001b[38;5;124m'''\u001b[39m\n\u001b[1;32m     13\u001b[0m \u001b[38;5;124m    <h1> Welcome to flask in Jupyter±</h1>\u001b[39m\n\u001b[1;32m     14\u001b[0m \u001b[38;5;124m    <p> This is a simple webpage using Flask inside Jupyter.</p>\u001b[39m\n\u001b[1;32m     15\u001b[0m \u001b[38;5;124m    <a href=\u001b[39m\u001b[38;5;124m\"\u001b[39m\u001b[38;5;124m/about>Go to about page</a>\u001b[39m\n\u001b[1;32m     16\u001b[0m \u001b[38;5;124m    \u001b[39m\u001b[38;5;124m'''\u001b[39m\n",
      "\u001b[0;31mNameError\u001b[0m: name 'HTML' is not defined"
     ]
    }
   ],
   "source": [
    "from flask import Flask\n",
    "from IPython.display import display, Javascript\n",
    "from threading import Thread\n",
    "app = Flask(__name__)\n",
    "\n",
    "\n",
    "\n",
    "\n",
    "display(HTML(\"<h1>Hello, world!</h1>\"))\n",
    "@app.route('/')\n",
    "def home():\n",
    "    return '''\n",
    "    <h1> Welcome to flask in Jupyter±</h1>\n",
    "    <p> This is a simple webpage using Flask inside Jupyter.</p>\n",
    "    <a href=\"/about>Go to about page</a>\n",
    "    '''\n",
    "\n",
    "@app.route('/about')\n",
    "def about():\n",
    "    return '''\n",
    "    <h1> About this web app </h1>\n",
    "    <p> This page was generated using flask within a jupyter notebook. It's a simple example to sho flask routing.</p>\n",
    "    <a href=\"/\">Go back home</a>\n",
    "    '''\n",
    "\n",
    "if __name__=='__main__':\n",
    "    app.run(host='0.0.0.0',port=8000,debug=True,use_reloader=False)\n",
    "\n",
    "# Function to run the Flask app\n",
    "def run_flask():\n",
    "    display(Javascript('window.open(\"/proxy/5000/\",\"_blank\")'))  # Opens a new tab in the browser for the app\n",
    "    app.run(host='0.0.0.0', port=5000)\n",
    "\n",
    "# Start the Flask application\n",
    "run_flask()"
   ]
  },
  {
   "cell_type": "code",
   "execution_count": null,
   "id": "77b46081-8213-40a1-84ed-1fabd5c9d338",
   "metadata": {},
   "outputs": [
    {
     "data": {
      "application/javascript": [
       "window.open(\"/proxy/8080/\",\"_blank\")"
      ],
      "text/plain": [
       "<IPython.core.display.Javascript object>"
      ]
     },
     "metadata": {},
     "output_type": "display_data"
    },
    {
     "name": "stdout",
     "output_type": "stream",
     "text": [
      " * Serving Flask app '__main__'\n",
      " * Debug mode: off\n"
     ]
    },
    {
     "name": "stderr",
     "output_type": "stream",
     "text": [
      "WARNING: This is a development server. Do not use it in a production deployment. Use a production WSGI server instead.\n",
      " * Running on all addresses (0.0.0.0)\n",
      " * Running on http://127.0.0.1:8080\n",
      " * Running on http://10.128.101.21:8080\n",
      "Press CTRL+C to quit\n",
      "10.128.101.21 - - [22/Oct/2024 16:16:14] \"GET / HTTP/1.1\" 200 -\n",
      "10.128.101.21 - - [22/Oct/2024 16:16:16] \"GET /about HTTP/1.1\" 200 -\n",
      "10.128.101.21 - - [22/Oct/2024 16:16:17] \"GET / HTTP/1.1\" 200 -\n",
      "10.128.101.21 - - [22/Oct/2024 16:16:18] \"GET /about HTTP/1.1\" 200 -\n",
      "10.128.101.21 - - [22/Oct/2024 16:16:19] \"GET / HTTP/1.1\" 200 -\n"
     ]
    }
   ],
   "source": [
    "# Import necessary libraries\n",
    "from flask import Flask\n",
    "from IPython.display import display, Javascript\n",
    "\n",
    "# Initialize the Flask application\n",
    "app = Flask(__name__)\n",
    "\n",
    "# Route for the Home page\n",
    "@app.route('/')\n",
    "def home():\n",
    "    return '''\n",
    "    <h1>Welcome to Flask in Jupyter!</h1>\n",
    "    <p>This is a simple webpage served using Flask inside Jupyter.</p>\n",
    "    <a href=\"/about\">Go to About Page</a>\n",
    "    '''\n",
    "\n",
    "# Route for the About page\n",
    "@app.route('/about')\n",
    "def about():\n",
    "    return '''\n",
    "    <h1>About This Web App</h1>\n",
    "    <p>This page was generated using Flask within a Jupyter notebook. It's a simple example to show Flask routing.</p>\n",
    "    <a href=\"/\">Go back Home</a>\n",
    "    '''\n",
    "    \n",
    "@app.route('/contact')\n",
    "def contact():\n",
    "    return '''\n",
    "    <h1>Contact Us</h1>\n",
    "    <p>If you have any questions, please reach out at contact@example.com.</p>\n",
    "    <a href=\"/\">Go back Home</a>\n",
    "    '''\n",
    "    \n",
    "# Function to run the Flask app\n",
    "def run_flask():\n",
    "    display(Javascript('window.open(\"/proxy/8080/\",\"_blank\")'))  # Opens a new tab in the browser for the app\n",
    "    app.run(host='0.0.0.0', port=8080)\n",
    "\n",
    "# Start the Flask application\n",
    "run_flask()"
   ]
  },
  {
   "cell_type": "code",
   "execution_count": null,
   "id": "3bbf725d-98f8-4dcf-a1d2-0825a57f34ec",
   "metadata": {},
   "outputs": [],
   "source": []
  },
  {
   "cell_type": "code",
   "execution_count": null,
   "id": "cd92f131-02f5-4924-9ffa-4af462a55896",
   "metadata": {},
   "outputs": [],
   "source": []
  },
  {
   "cell_type": "code",
   "execution_count": null,
   "id": "8b645005-4955-4b40-9fca-e26272ee1d33",
   "metadata": {},
   "outputs": [],
   "source": []
  },
  {
   "cell_type": "code",
   "execution_count": null,
   "id": "3778866b-226b-4634-aada-2b6bed4499cb",
   "metadata": {},
   "outputs": [],
   "source": []
  },
  {
   "cell_type": "code",
   "execution_count": null,
   "id": "824c9d66-738f-4ae5-bcb8-cf822cd03810",
   "metadata": {},
   "outputs": [],
   "source": []
  },
  {
   "cell_type": "code",
   "execution_count": null,
   "id": "291e8730-5181-4eae-bea0-620b51452b71",
   "metadata": {},
   "outputs": [],
   "source": []
  },
  {
   "cell_type": "code",
   "execution_count": null,
   "id": "4c6dfa07-6687-4592-8116-cea68bf752d5",
   "metadata": {},
   "outputs": [],
   "source": []
  },
  {
   "cell_type": "code",
   "execution_count": null,
   "id": "7a12e25d-79e2-4200-81a2-e79694f67c0d",
   "metadata": {},
   "outputs": [],
   "source": []
  }
 ],
 "metadata": {
  "kernelspec": {
   "display_name": "Python 3 (ipykernel)",
   "language": "python",
   "name": "python3"
  },
  "language_info": {
   "codemirror_mode": {
    "name": "ipython",
    "version": 3
   },
   "file_extension": ".py",
   "mimetype": "text/x-python",
   "name": "python",
   "nbconvert_exporter": "python",
   "pygments_lexer": "ipython3",
   "version": "3.12.4"
  }
 },
 "nbformat": 4,
 "nbformat_minor": 5
}
